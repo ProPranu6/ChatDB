{
 "cells": [
  {
   "cell_type": "code",
   "execution_count": 1,
   "metadata": {},
   "outputs": [
    {
     "name": "stdout",
     "output_type": "stream",
     "text": [
      "\n",
      "This package provides tools for converting natural language queries into SQL and NoSQL database queries \n",
      "for retrieving results. It operates without the use of learnable parameters, neural networks, or embeddings, \n",
      "focusing instead on rule-based natural language parsing.\n",
      "\n",
      "Features:\n",
      "1. Supports natural language descriptions of queries that involve combinations of:\n",
      "   - `SELECT` statements\n",
      "   - Table names\n",
      "   - Column names\n",
      "   - `WHERE`, `GROUP BY`, and `ORDER BY` clauses\n",
      "   Column names can include aggregated operations such as `min`, `max`, `median`, `mean`, `stddev`, `variance`, \n",
      "   `count`, and `distinct`.\n",
      "\n",
      "2. Enforces rules for SQL queries:\n",
      "   - When `WHERE`, `GROUP BY`, or `ORDER BY` clauses are used, the keywords **must appear** explicitly \n",
      "     in their respective clauses.\n",
      "   - Multi-word column names are enclosed in backticks (e.g., `` `column name` ``).\n",
      "   - Aggregation parameters with multi-word descriptions are supported using formats like `minimum-of`, \n",
      "     `standard-deviation`, etc.\n",
      "\n",
      "3. Supports natural language queries with filler words (e.g., prepositions, stop words) between clauses or commands \n",
      "   while ensuring syntactic correctness.\n",
      "\n",
      "4. Ensures that table names appear only once in a query, whereas column names and aggregation operations \n",
      "   may occur multiple times.\n",
      "\n",
      "This package is ideal for scenarios requiring accurate, rule-based query generation without relying on \n",
      "machine learning or embeddings.\n",
      "\n"
     ]
    },
    {
     "name": "stderr",
     "output_type": "stream",
     "text": [
      "[nltk_data] Error loading stopwords: <urlopen error [SSL:\n",
      "[nltk_data]     CERTIFICATE_VERIFY_FAILED] certificate verify failed:\n",
      "[nltk_data]     unable to get local issuer certificate (_ssl.c:1002)>\n",
      "/Users/pranu/Documents/Grad-Docs/Third Sem/FDM/ChatDB-new/.venv/lib/python3.11/site-packages/fuzzywuzzy/fuzz.py:11: UserWarning: Using slow pure-python SequenceMatcher. Install python-Levenshtein to remove this warning\n",
      "  warnings.warn('Using slow pure-python SequenceMatcher. Install python-Levenshtein to remove this warning')\n"
     ]
    }
   ],
   "source": [
    "from engine import client, data_explore, get_parser, generate_sql, restructure_query, parse_tree_to_sql, query_sql, query_nosql, SQLToMongoConverter\n",
    "from warnings import filterwarnings\n",
    "filterwarnings('ignore')"
   ]
  },
  {
   "cell_type": "code",
   "execution_count": null,
   "metadata": {},
   "outputs": [],
   "source": [
    "\"\"\"\n",
    "SQL db -> JSONs -> schema -> SQL gen1\n",
    "                          -> NL-SQL parser -> SQL gen2\n",
    "\"\"\"\n",
    "\n",
    "schema_description=data_explore('SQL/thrombosis_prediction')\n",
    "query = \"select sum of symptoms from examinations where the id > 3853710 grouped by people's thrombosis status\" \n",
    "parser, corrs = get_parser(schema_description, 'Examination')\n",
    "query = restructure_query(query, corrs)\n",
    "tokens = query.split()\n",
    "tree = next(parser.parse(tokens))\n",
    "sql = parse_tree_to_sql(tree)\n",
    "query_sql('SQL/thrombosis_prediction/thrombosis_prediction.sqlite', sql)\n",
    "\n",
    "\n",
    "\"\"\"\n",
    "\n",
    "NoSQL db -> JSONs -> schema -> SQL gen1 -> NoSQL gen1\n",
    "                            -> NL-SQL parser -> SQL gen2 -> NoSQL gen2\n",
    "\n",
    "\"\"\"\n",
    "\n",
    "\n",
    "schema_description=data_explore('NoSQL/formula_1')\n",
    "query = \"select maximum wins from constructorStandings where position placed is < 3 and grouped by constructorId\" \n",
    "parser, corrs = get_parser(schema_description, 'constructorStandings')\n",
    "query = restructure_query(query, corrs)\n",
    "tokens = query.split()\n",
    "tree = next(parser.parse(tokens))\n",
    "sqlt = parse_tree_to_sql(tree)\n",
    "nosql = SQLToMongoConverter().convert_to_mongo(sqlt)\n",
    "query_nosql('formula_1', nosql)\n",
    "\n",
    "_ = \"end\""
   ]
  },
  {
   "cell_type": "code",
   "execution_count": 1,
   "metadata": {},
   "outputs": [
    {
     "name": "stdout",
     "output_type": "stream",
     "text": [
      "RULES FOR NLQ (NATURAL LANGUAGE QUERY)\n",
      "*1 Always use KEYWORDS [where, order by, group by] in NL; slight deviations allowed\n",
      "*2 Always join multiword operators with '-' [standard-deviation, minimum-of /etc]; other connectors allowed except space\n",
      "*3 Where clauses don't support pure cat field comparisions \n",
      "\n"
     ]
    },
    {
     "name": "stderr",
     "output_type": "stream",
     "text": [
      "[nltk_data] Error loading stopwords: <urlopen error [SSL:\n",
      "[nltk_data]     CERTIFICATE_VERIFY_FAILED] certificate verify failed:\n",
      "[nltk_data]     unable to get local issuer certificate (_ssl.c:1002)>\n",
      "/Users/pranu/Documents/Grad-Docs/Third Sem/FDM/ChatDB-new/.venv/lib/python3.11/site-packages/fuzzywuzzy/fuzz.py:11: UserWarning: Using slow pure-python SequenceMatcher. Install python-Levenshtein to remove this warning\n",
      "  warnings.warn('Using slow pure-python SequenceMatcher. Install python-Levenshtein to remove this warning')\n"
     ]
    }
   ],
   "source": [
    "from test_cases import NoSQLTestCases, SQLTestCases"
   ]
  },
  {
   "cell_type": "code",
   "execution_count": 2,
   "metadata": {},
   "outputs": [
    {
     "ename": "FileNotFoundError",
     "evalue": "[Errno 2] No such file or directory: 'SQL/debit_card_specialization'",
     "output_type": "error",
     "traceback": [
      "\u001b[0;31m---------------------------------------------------------------------------\u001b[0m",
      "\u001b[0;31mFileNotFoundError\u001b[0m                         Traceback (most recent call last)",
      "Cell \u001b[0;32mIn[2], line 1\u001b[0m\n\u001b[0;32m----> 1\u001b[0m tester \u001b[38;5;241m=\u001b[39m \u001b[43mSQLTestCases\u001b[49m\u001b[43m(\u001b[49m\u001b[43mdb_name\u001b[49m\u001b[38;5;241;43m=\u001b[39;49m\u001b[38;5;124;43m\"\u001b[39;49m\u001b[38;5;124;43mdebit_card_specialization\u001b[39;49m\u001b[38;5;124;43m\"\u001b[39;49m\u001b[43m)\u001b[49m\n\u001b[1;32m      2\u001b[0m cases \u001b[38;5;241m=\u001b[39m tester\u001b[38;5;241m.\u001b[39mt\n\u001b[1;32m      3\u001b[0m _ \u001b[38;5;241m=\u001b[39m \u001b[38;5;28mlist\u001b[39m(\u001b[38;5;28mmap\u001b[39m(tester, cases))\n",
      "File \u001b[0;32m~/Documents/Grad-Docs/Third Sem/FDM/ChatDB-new/test_cases.py:104\u001b[0m, in \u001b[0;36mSQLTestCases.__init__\u001b[0;34m(self, db_name, max_sample, debug)\u001b[0m\n\u001b[1;32m    102\u001b[0m \u001b[38;5;28;01mdef\u001b[39;00m \u001b[38;5;21m__init__\u001b[39m(\u001b[38;5;28mself\u001b[39m, db_name\u001b[38;5;241m=\u001b[39m\u001b[38;5;124m'\u001b[39m\u001b[38;5;124mdefault\u001b[39m\u001b[38;5;124m'\u001b[39m, max_sample\u001b[38;5;241m=\u001b[39m\u001b[38;5;241m3\u001b[39m, debug\u001b[38;5;241m=\u001b[39m\u001b[38;5;28;01mTrue\u001b[39;00m):\n\u001b[1;32m    103\u001b[0m     \u001b[38;5;28mself\u001b[39m\u001b[38;5;241m.\u001b[39mdb_name \u001b[38;5;241m=\u001b[39m db_name\n\u001b[0;32m--> 104\u001b[0m     \u001b[38;5;28mself\u001b[39m\u001b[38;5;241m.\u001b[39mschema_description\u001b[38;5;241m=\u001b[39m\u001b[43mdata_explore\u001b[49m\u001b[43m(\u001b[49m\u001b[38;5;124;43mf\u001b[39;49m\u001b[38;5;124;43m'\u001b[39;49m\u001b[38;5;124;43mSQL/\u001b[39;49m\u001b[38;5;132;43;01m{\u001b[39;49;00m\u001b[43mdb_name\u001b[49m\u001b[38;5;132;43;01m}\u001b[39;49;00m\u001b[38;5;124;43m'\u001b[39;49m\u001b[43m,\u001b[49m\u001b[43m \u001b[49m\u001b[43mprint_schema\u001b[49m\u001b[38;5;241;43m=\u001b[39;49m\u001b[38;5;28;43;01mFalse\u001b[39;49;00m\u001b[43m)\u001b[49m\n\u001b[1;32m    105\u001b[0m     \u001b[38;5;28mself\u001b[39m\u001b[38;5;241m.\u001b[39mmax_sample \u001b[38;5;241m=\u001b[39m max_sample\n\u001b[1;32m    106\u001b[0m     \u001b[38;5;28mself\u001b[39m\u001b[38;5;241m.\u001b[39mdebug \u001b[38;5;241m=\u001b[39m debug\n",
      "File \u001b[0;32m~/Documents/Grad-Docs/Third Sem/FDM/ChatDB-new/engine.py:210\u001b[0m, in \u001b[0;36mdata_explore\u001b[0;34m(file_path, print_schema)\u001b[0m\n\u001b[1;32m    208\u001b[0m \u001b[38;5;28;01mdef\u001b[39;00m \u001b[38;5;21mdata_explore\u001b[39m(file_path\u001b[38;5;241m=\u001b[39m\u001b[38;5;124m'\u001b[39m\u001b[38;5;124mNoSQL/formula_1\u001b[39m\u001b[38;5;124m'\u001b[39m, print_schema\u001b[38;5;241m=\u001b[39m\u001b[38;5;28;01mTrue\u001b[39;00m):\n\u001b[1;32m    209\u001b[0m     \u001b[38;5;28;01mif\u001b[39;00m file_path\u001b[38;5;241m.\u001b[39msplit(\u001b[38;5;124m\"\u001b[39m\u001b[38;5;124m/\u001b[39m\u001b[38;5;124m\"\u001b[39m)[\u001b[38;5;241m0\u001b[39m]\u001b[38;5;241m.\u001b[39mlower() \u001b[38;5;241m==\u001b[39m \u001b[38;5;124m'\u001b[39m\u001b[38;5;124msql\u001b[39m\u001b[38;5;124m'\u001b[39m:\n\u001b[0;32m--> 210\u001b[0m         \u001b[38;5;28;01mfor\u001b[39;00m sqlitef \u001b[38;5;129;01min\u001b[39;00m \u001b[43mos\u001b[49m\u001b[38;5;241;43m.\u001b[39;49m\u001b[43mlistdir\u001b[49m\u001b[43m(\u001b[49m\u001b[43mfile_path\u001b[49m\u001b[43m)\u001b[49m:\n\u001b[1;32m    211\u001b[0m             \u001b[38;5;28;01mif\u001b[39;00m sqlitef\u001b[38;5;241m.\u001b[39mendswith(\u001b[38;5;124m'\u001b[39m\u001b[38;5;124m.sqlite\u001b[39m\u001b[38;5;124m'\u001b[39m):\n\u001b[1;32m    212\u001b[0m                 _sqlite_tables_to_json(os\u001b[38;5;241m.\u001b[39mpath\u001b[38;5;241m.\u001b[39mjoin(file_path, sqlitef))\n",
      "\u001b[0;31mFileNotFoundError\u001b[0m: [Errno 2] No such file or directory: 'SQL/debit_card_specialization'"
     ]
    }
   ],
   "source": [
    "tester = SQLTestCases(db_name=\"debit_card_specialization\")\n",
    "cases = tester.t\n",
    "_ = list(map(tester, cases))"
   ]
  },
  {
   "cell_type": "code",
   "execution_count": 3,
   "metadata": {},
   "outputs": [
    {
     "name": "stdout",
     "output_type": "stream",
     "text": [
      "####################################################################################################\n",
      "NL Query :  from frpm find all the `Country Name`\n",
      "Reconstructed Query :  frpm find `County Name`\n",
      "Parse Tree :  (S (TABLE frpm) (CLAUSE ) (CMD find) (COLUMN (CAT `County Name`)))\n",
      "SQL :  SELECT `County Name` FROM frpm \n",
      "NoSQL :  frpm.aggregate([{'$project': {'County Name': 1}}])\n",
      "Results :  [{'_id': ObjectId('67455a282a2b11d96a7923d7'), 'County Name': 'Alameda'}, {'_id': ObjectId('67455a282a2b11d96a7923d8'), 'County Name': 'Alameda'}, {'_id': ObjectId('67455a282a2b11d96a7923d9'), 'County Name': 'Alameda'}]\n"
     ]
    },
    {
     "data": {
      "text/plain": [
       "[{'_id': ObjectId('67455a282a2b11d96a7923d7'), 'County Name': 'Alameda'},\n",
       " {'_id': ObjectId('67455a282a2b11d96a7923d8'), 'County Name': 'Alameda'},\n",
       " {'_id': ObjectId('67455a282a2b11d96a7923d9'), 'County Name': 'Alameda'}]"
      ]
     },
     "execution_count": 3,
     "metadata": {},
     "output_type": "execute_result"
    }
   ],
   "source": [
    "tester = NoSQLTestCases(db_name=\"california_schools\")\n",
    "cases = tester.t\n",
    "tester(('frpm', \"from frpm find all the `Country Name`\"))"
   ]
  },
  {
   "cell_type": "code",
   "execution_count": 5,
   "metadata": {},
   "outputs": [
    {
     "name": "stdout",
     "output_type": "stream",
     "text": [
      "\n",
      "    S -> CMD \"*\" TABLE CLAUSE | CMD COLUMN TABLE CLAUSE | CMD AGG COLUMN TABLE CLAUSE | CMD \"*\" CLAUSE TABLE | CMD COLUMN CLAUSE TABLE| CMD AGG COLUMN CLAUSE TABLE \n",
      "    CLAUSE -> \"where\" COLUMN NOP VALUE CLAUSE | \"group\" \"by\" COLUMN CLAUSE | \"order\" \"by\" COLUMN CLAUSE \n",
      "    CLAUSE -> \n",
      "    COLUMN -> CAT COLUMN | NUM COLUMN | NOMCAT COLUMN | ORDCAT COLUMN | CAT AGG COLUMN | NUM AGG COLUMN | NOMCAT AGG COLUMN | ORDCAT AGG COLUMN\n",
      "    COLUMN -> CAT | NUM | NOMCAT | ORDCAT\n",
      "    CAT -> \"_id\" | \"`Academic\" \"Year`\" | \"CDSCode\" | \"`Charter\" \"Funding\" \"Type`\" | \"`Charter\" \"School\" \"Number`\" | \"`County\" \"Code`\" | \"`County\" \"Name`\" | \"`District\" \"Name`\" | \"`District\" \"Type`\" | \"`Educational\" \"Option\" \"Type`\" | \"`High\" \"Grade`\" | \"`Low\" \"Grade`\" | \"`NSLP\" \"Provision\" \"Status`\" | \"`School\" \"Code`\" | \"`School\" \"Name`\" | \"`School\" \"Type`\"\n",
      "    NUM -> \"`Enrollment\" \"(Ages\" \"5-17)`\" | \"`Enrollment\" \"(K-12)`\" | \"`FRPM\" \"Count\" \"(Ages\" \"5-17)`\" | \"`FRPM\" \"Count\" \"(K-12)`\" | \"`Free\" \"Meal\" \"Count\" \"(Ages\" \"5-17)`\" | \"`Free\" \"Meal\" \"Count\" \"(K-12)`\" | \"`Percent\" \"(%)\" \"Eligible\" \"FRPM\" \"(Ages\" \"5-17)`\" | \"`Percent\" \"(%)\" \"Eligible\" \"FRPM\" \"(K-12)`\" | \"`Percent\" \"(%)\" \"Eligible\" \"Free\" \"(Ages\" \"5-17)`\" | \"`Percent\" \"(%)\" \"Eligible\" \"Free\" \"(K-12)`\"\n",
      "    NOMCAT -> \"`Charter\" \"School\" \"(Y/N)`\" | \"`District\" \"Code`\" | \"IRC\"\n",
      "    ORDCAT -> \"`2013-14\" \"CALPADS\" \"Fall\" \"1\" \"Certification\" \"Status`\"\n",
      "    CMD -> \"generate\" | \"pull-in\" | \"develop\" | \"snap-up\" | \"blue-ribbon\" | \"prime\" | \"catch\" | \"grab\" | \"take-hold-of\" | \"find\" | \"recover\" | \"superior\" | \"seize\" | \"choose\" | \"pick-out\" | \"draw\" | \"fine\" | \"snaffle\" | \"select\" | \"receive\" | \"ascertain\" | \"fetch\" | \"attract\" | \"snatch\" | \"make\" | \"pull\" | \"draw-in\" | \"encounter\" | \"determine\" | \"convey\" | \"get\" | \"produce\" | \"take\" | \"obtain\" | \"bring\" | \"acquire\" | \"retrieve\" | \"detect\" | \"bring-in\" | \"quality\" | \"choice\" | \"prize\" | \"discover\" | \"snap\"\n",
      "    AGG -> SUM | MIN | MAX | MEDIAN | AVG | COUNT | VARIANCE | STDDEV | DISTINCT\n",
      "    SUM -> \"rundown\" | \"plus\" | \"addition\" | \"summation\" | \"summing-up\"\n",
      "    MIN -> \"bottom\" | \"least\" | \"marginal\" | \"borderline\" | \"minimum\" | \"nominal\" | \"negligible\" | \"smallest\" | \"stripped\" | \"minimal\" | \"lowest\"\n",
      "    MAX -> \"outside\" | \"utmost\" | \"level-best\" | \"top\" | \"greatest\" | \"maximal\" | \"supreme\" | \"uttermost\" | \"largest\" | \"maximum\" | \"highest\"\n",
      "    MEDIAN -> \"average\" | \"central\" | \"median\" | \"mesial\" | \"medial\"\n",
      "    AVG -> \"mean\" | \"intermediate\" | \"average\" | \"norm\" | \"modal\" | \"ordinary\" | \"middling\" | \"median\" | \"common\" | \"normal\" | \"fair\"\n",
      "    COUNT -> \"count\" | \"reckon\" | \"consider\" | \"enumerate\" | \"enumeration\" | \"matter\" | \"tally\" | \"reckoning\" | \"numeration\" | \"counting\" | \"number\"\n",
      "    VARIANCE -> \"divergence\" | \"variability\" | \"variation\" | \"variant\" | \"discrepancy\" | \"division\" | \"disagreement\" | \"variance\" | \"variableness\"\n",
      "    STDDEV -> \"standard-deviation\"\n",
      "    DISTINCT -> \"uncomparable\" | \"different\" | \"discrete\" | \"decided\" | \"distinct\" | \"definite\" | \"defined\" | \"unique\" | \"unusual\" | \"unparalleled\" | \"singular\" | \"distinguishable\" | \"crisp\" | \"unequaled\" | \"separate\" | \"incomparable\" | \"crystalline\" | \"unequalled\" | \"alone\" | \"trenchant\"\n",
      "    NOP -> \">\" | \"<\" | \">=\" | \"<=\" | \"=\"\n",
      "    TABLE -> \"frpm\"\n",
      "    VALUE -> \"<number>\" | \"<string>\"\n",
      "    \n"
     ]
    }
   ],
   "source": [
    "print(tester.cfg)"
   ]
  },
  {
   "cell_type": "code",
   "execution_count": 2,
   "metadata": {},
   "outputs": [
    {
     "name": "stdout",
     "output_type": "stream",
     "text": [
      "####################################################################################################\n",
      "NL Query :  From the patient records, where sex of person is = 'M' get me his bitrthday\n"
     ]
    },
    {
     "name": "stderr",
     "output_type": "stream",
     "text": [
      "WARNING:root:Applied processor reduces input query to empty string, all comparisons will have score 0. [Query: '=']\n"
     ]
    },
    {
     "name": "stdout",
     "output_type": "stream",
     "text": [
      "Reconstructed Query :  Patient where SEX = <string> get Birthday\n",
      "Parse Tree :  (S\n",
      "  (TABLE Patient)\n",
      "  (CLAUSE\n",
      "    where\n",
      "    (COLUMN (CAT SEX))\n",
      "    (NOP =)\n",
      "    (VALUE <string>)\n",
      "    (CLAUSE ))\n",
      "  (CMD get)\n",
      "  (COLUMN (CAT Birthday)))\n",
      "SQL :  SELECT Birthday FROM Patient WHERE SEX = 'M'\n",
      "Results :  [('1937-11-24',), ('1923-07-25',), ('1967-03-25',), ('1934-09-03',), ('1939-08-03',)]\n",
      "####################################################################################################\n",
      "NL Query :  Get me the id of patients where their `first date` is < '1985-10-01' and group this by diagnosis results.\n"
     ]
    },
    {
     "name": "stderr",
     "output_type": "stream",
     "text": [
      "WARNING:root:Applied processor reduces input query to empty string, all comparisons will have score 0. [Query: '<']\n"
     ]
    },
    {
     "name": "stdout",
     "output_type": "stream",
     "text": [
      "Reconstructed Query :  get ID Patient where `First Date` < <string> group by Diagnosis\n",
      "Parse Tree :  (S\n",
      "  (CMD get)\n",
      "  (COLUMN (NOMCAT ID))\n",
      "  (TABLE Patient)\n",
      "  (CLAUSE\n",
      "    where\n",
      "    (COLUMN (CAT `First Date`))\n",
      "    (NOP <)\n",
      "    (VALUE <string>)\n",
      "    (CLAUSE group by (COLUMN (CAT Diagnosis)) (CLAUSE ))))\n",
      "SQL :  SELECT ID FROM Patient WHERE `First Date` < '1985-10-01' GROUP BY Diagnosis\n",
      "Results :  [(549080,), (1007813,), (1218725,), (1491832,), (1531448,)]\n",
      "####################################################################################################\n",
      "NL Query :  In the ecords, find diagnosis of patients grouped by their sex.\n",
      "Reconstructed Query :  find Diagnosis Patient group by SEX\n",
      "Parse Tree :  (S\n",
      "  (CMD find)\n",
      "  (COLUMN (CAT Diagnosis))\n",
      "  (TABLE Patient)\n",
      "  (CLAUSE group by (COLUMN (CAT SEX)) (CLAUSE )))\n",
      "SQL :  SELECT Diagnosis FROM Patient GROUP BY SEX\n",
      "Results :  [('SLE',), ('RA susp.',), (\"Raynaud's phenomenon\",)]\n"
     ]
    }
   ],
   "source": [
    "tester = SQLTestCases(\"thrombosis_prediction\", 5)\n",
    "\n",
    "#(\"constructorStandings\", \"where points = 7 in constructorStandings, get the minimum position\")\n",
    "#(\"constructorStandings\", \"get me a summation of wins in `constructor standings` where position placed is > 3 grouped by constructorid\"),\n",
    "#(\"constructorStandings\", \"extract all distinct raceids happned in constructiorstandings\")\n",
    "(\"constructorStandings\", \"get maximum points that is scored, grouped by constructorid from constructorstandings\"),\n",
    "        \n",
    "_ = list(map(tester, [(\"Patient\", \"From the patient records, where sex of person is = 'M' get me his bitrthday\"),\n",
    "        (\"Patient\", \"Get me the id of patients where their `first date` is < '1985-10-01' and group this by diagnosis results.\"),\n",
    "        (\"Patient\", \"In the ecords, find diagnosis of patients grouped by their sex.\")\n",
    "]))\n"
   ]
  },
  {
   "cell_type": "code",
   "execution_count": null,
   "metadata": {},
   "outputs": [
    {
     "name": "stdout",
     "output_type": "stream",
     "text": [
      "\n",
      "    S -> CMD \"*\" TABLE CLAUSE | CMD COLUMN TABLE CLAUSE | CMD AGG COLUMN TABLE CLAUSE | CMD \"*\" CLAUSE TABLE | CMD COLUMN CLAUSE TABLE| CMD AGG COLUMN CLAUSE TABLE | CLAUSE CMD COLUMN TABLE | CLAUSE CMD AGG COLUMN TABLE | CLAUSE CMD COLUMN TABLE CLAUSE | CLAUSE CMD AGG COLUMN TABLE CLAUSE | TABLE CMD COLUMN CLAUSE | TABLE CMD AGG COLUMN CLAUSE | TABLE CLAUSE CMD COLUMN | TABLE CLAUSE CMD AGG COLUMN | TABLE CLAUSE CMD COLUMN CLAUSE | TABLE CLAUSE CMD AGG COLUMN CLAUSE | CLAUSE CMD COLUMN CLAUSE TABLE | CLAUSE CMD AGG COLUMN CLAUSE TABLE | CLAUSE TABLE CMD COLUMN | CLAUSE TABLE CMD AGG COLUMN | CLAUSE TABLE CMD COLUMN CLAUSE | CLAUSE TABLE CMD AGG COLUMN CLAUSE\n",
      "    CLAUSE -> \"where\" COLUMN NOP VALUE CLAUSE | \"group\" \"by\" COLUMN CLAUSE | \"order\" \"by\" COLUMN CLAUSE \n",
      "    CLAUSE -> \n",
      "    COLUMN -> CAT COLUMN | NUM COLUMN | NOMCAT COLUMN | ORDCAT COLUMN | CAT AGG COLUMN | NUM AGG COLUMN | NOMCAT AGG COLUMN | ORDCAT AGG COLUMN\n",
      "    COLUMN -> CAT | NUM | NOMCAT | ORDCAT\n",
      "    CAT -> \"_id\" | \"name\" | \"date\" | \"time\" | \"url\"\n",
      "    NUM -> \"<default>\"\n",
      "    NOMCAT -> \"raceId\" | \"year\" | \"round\" | \"circuitId\"\n",
      "    ORDCAT -> \"<default>\"\n",
      "    CMD -> \"snaffle\" | \"detect\" | \"distil\" | \"encounter\" | \"develop\" | \"snap\" | \"obtain\" | \"generate\" | \"determine\" | \"seize\" | \"elicit\" | \"catch\" | \"pull-out\" | \"bring-in\" | \"excerpt\" | \"draw-in\" | \"discover\" | \"take\" | \"prime\" | \"fine\" | \"distill\" | \"quality\" | \"infusion\" | \"take-out\" | \"grab\" | \"select\" | \"selection\" | \"bring\" | \"extract\" | \"retrieve\" | \"produce\" | \"superior\" | \"ascertain\" | \"snap-up\" | \"express\" | \"snatch\" | \"find\" | \"choose\" | \"take-hold-of\" | \"pick-out\" | \"evoke\" | \"recover\" | \"receive\" | \"draw\" | \"choice\" | \"prize\" | \"blue-ribbon\" | \"attract\" | \"pull-in\" | \"make\" | \"fetch\" | \"acquire\" | \"get\" | \"convey\" | \"pull\"\n",
      "    AGG -> SUM | MIN | MAX | MEDIAN | AVG | COUNT | VARIANCE | STDDEV | DISTINCT\n",
      "    SUM -> \"summation\" | \"addition\" | \"rundown\" | \"summing-up\" | \"plus\"\n",
      "    MIN -> \"marginal\" | \"nominal\" | \"stripped\" | \"least\" | \"borderline\" | \"negligible\" | \"smallest\" | \"minimum\" | \"bottom\" | \"lowest\" | \"minimal\"\n",
      "    MAX -> \"outside\" | \"top\" | \"maximum\" | \"supreme\" | \"highest\" | \"utmost\" | \"uttermost\" | \"level-best\" | \"greatest\" | \"largest\" | \"maximal\"\n",
      "    MEDIAN -> \"median\" | \"central\" | \"medial\" | \"mesial\" | \"average\"\n",
      "    AVG -> \"median\" | \"common\" | \"ordinary\" | \"mean\" | \"middling\" | \"fair\" | \"norm\" | \"modal\" | \"intermediate\" | \"normal\" | \"average\"\n",
      "    COUNT -> \"numeration\" | \"enumerate\" | \"enumeration\" | \"consider\" | \"counting\" | \"reckon\" | \"matter\" | \"count\" | \"reckoning\" | \"number\" | \"tally\"\n",
      "    VARIANCE -> \"variation\" | \"variableness\" | \"variance\" | \"disagreement\" | \"variability\" | \"variant\" | \"division\" | \"discrepancy\" | \"divergence\"\n",
      "    STDDEV -> \"standard-deviation\"\n",
      "    DISTINCT -> \"incomparable\" | \"unusual\" | \"unequaled\" | \"crisp\" | \"singular\" | \"unparalleled\" | \"different\" | \"crystalline\" | \"distinguishable\" | \"decided\" | \"definite\" | \"alone\" | \"discrete\" | \"trenchant\" | \"distinct\" | \"uncomparable\" | \"defined\" | \"unequalled\" | \"separate\" | \"unique\"\n",
      "    NOP -> \">\" | \"<\" | \">=\" | \"<=\" | \"=\"\n",
      "    TABLE -> \"races\"\n",
      "    VALUE -> \"<number>\" | \"<string>\"\n",
      "    \n"
     ]
    }
   ],
   "source": []
  },
  {
   "cell_type": "code",
   "execution_count": 8,
   "metadata": {},
   "outputs": [
    {
     "data": {
      "text/plain": [
       "['Extract',\n",
       " '`Percent-(%)-Eligible-FRPM-(Ages-5-17)`',\n",
       " 'where',\n",
       " 'name',\n",
       " '=',\n",
       " \"'praneeth'\"]"
      ]
     },
     "execution_count": 8,
     "metadata": {},
     "output_type": "execute_result"
    }
   ],
   "source": [
    "import re\n",
    "def _split_ignore_quoticks(s):\n",
    "    return re.findall(r\"'[^']*'|`[^`]*`|\\S+\", s)\n",
    "\n",
    "\n",
    "def _split_ignore_ticks(s):\n",
    "    return re.findall(r\"`[^`]*`|\\S+\", s)\n",
    "\n",
    "_split_ignore_quoticks(\"Extract `Percent-(%)-Eligible-FRPM-(Ages-5-17)` where name = 'praneeth'\")"
   ]
  },
  {
   "cell_type": "code",
   "execution_count": 3,
   "metadata": {},
   "outputs": [
    {
     "name": "stdout",
     "output_type": "stream",
     "text": [
      "\n",
      "    S -> CMD \"*\" TABLE CLAUSE | CMD COLUMN TABLE CLAUSE | CMD AGG COLUMN TABLE CLAUSE | CMD \"*\" CLAUSE TABLE | CMD COLUMN CLAUSE TABLE| CMD AGG COLUMN CLAUSE TABLE \n",
      "    CLAUSE -> \"where\" COLUMN NOP VALUE CLAUSE | \"group\" \"by\" COLUMN CLAUSE | \"order\" \"by\" COLUMN CLAUSE \n",
      "    CLAUSE -> \n",
      "    COLUMN -> CAT COLUMN | NUM COLUMN | NOMCAT COLUMN | ORDCAT COLUMN | CAT AGG COLUMN | NUM AGG COLUMN | NOMCAT AGG COLUMN | ORDCAT AGG COLUMN\n",
      "    COLUMN -> CAT | NUM | NOMCAT | ORDCAT\n",
      "    CAT -> \"_id\" | \"Academic-Year\" | \"CDSCode\" | \"Charter-Funding-Type\" | \"Charter-School-Number\" | \"County-Code\" | \"County-Name\" | \"District-Name\" | \"District-Type\" | \"Educational-Option-Type\" | \"High-Grade\" | \"Low-Grade\" | \"NSLP-Provision-Status\" | \"School-Code\" | \"School-Name\" | \"School-Type\"\n",
      "    NUM -> \"Enrollment-(Ages-5-17)\" | \"Enrollment-(K-12)\" | \"FRPM-Count-(Ages-5-17)\" | \"FRPM-Count-(K-12)\" | \"Free-Meal-Count-(Ages-5-17)\" | \"Free-Meal-Count-(K-12)\" | \"Percent-(%)-Eligible-FRPM-(Ages-5-17)\" | \"Percent-(%)-Eligible-FRPM-(K-12)\" | \"Percent-(%)-Eligible-Free-(Ages-5-17)\" | \"Percent-(%)-Eligible-Free-(K-12)\"\n",
      "    NOMCAT -> \"Charter-School-(Y/N)\" | \"District-Code\" | \"IRC\"\n",
      "    ORDCAT -> \"2013-14-CALPADS-Fall-1-Certification-Status\"\n",
      "    CMD -> \"choose\" | \"detect\" | \"generate\" | \"quality\" | \"draw\" | \"get\" | \"attract\" | \"pull\" | \"snatch\" | \"produce\" | \"ascertain\" | \"draw-in\" | \"snaffle\" | \"choice\" | \"take-hold-of\" | \"receive\" | \"discover\" | \"fetch\" | \"bring\" | \"snap\" | \"select\" | \"convey\" | \"catch\" | \"find\" | \"make\" | \"obtain\" | \"acquire\" | \"snap-up\" | \"recover\" | \"bring-in\" | \"take\" | \"seize\" | \"pull-in\" | \"prize\" | \"blue-ribbon\" | \"prime\" | \"fine\" | \"pick-out\" | \"encounter\" | \"determine\" | \"develop\" | \"retrieve\" | \"grab\" | \"superior\"\n",
      "    AGG -> SUM | MIN | MAX | MEDIAN | AVG | COUNT | VARIANCE | STDDEV | DISTINCT\n",
      "    SUM -> \"summation\" | \"plus\" | \"summing-up\" | \"addition\" | \"rundown\"\n",
      "    MIN -> \"minimal\" | \"lowest\" | \"nominal\" | \"least\" | \"bottom\" | \"marginal\" | \"stripped\" | \"minimum\" | \"negligible\" | \"smallest\" | \"borderline\"\n",
      "    MAX -> \"utmost\" | \"maximal\" | \"largest\" | \"uttermost\" | \"outside\" | \"maximum\" | \"supreme\" | \"greatest\" | \"top\" | \"highest\" | \"level-best\"\n",
      "    MEDIAN -> \"central\" | \"average\" | \"medial\" | \"mesial\" | \"median\"\n",
      "    AVG -> \"common\" | \"intermediate\" | \"average\" | \"norm\" | \"mean\" | \"fair\" | \"middling\" | \"ordinary\" | \"modal\" | \"normal\" | \"median\"\n",
      "    COUNT -> \"consider\" | \"count\" | \"counting\" | \"enumeration\" | \"reckoning\" | \"enumerate\" | \"reckon\" | \"matter\" | \"tally\" | \"number\" | \"numeration\"\n",
      "    VARIANCE -> \"variation\" | \"discrepancy\" | \"variableness\" | \"disagreement\" | \"variability\" | \"division\" | \"variance\" | \"divergence\" | \"variant\"\n",
      "    STDDEV -> \"standard-deviation\"\n",
      "    DISTINCT -> \"uncomparable\" | \"discrete\" | \"distinguishable\" | \"definite\" | \"crystalline\" | \"decided\" | \"singular\" | \"defined\" | \"unusual\" | \"trenchant\" | \"crisp\" | \"unique\" | \"unparalleled\" | \"incomparable\" | \"different\" | \"separate\" | \"distinct\" | \"unequalled\" | \"unequaled\" | \"alone\"\n",
      "    NOP -> \">\" | \"<\" | \">=\" | \"<=\" | \"=\"\n",
      "    TABLE -> \"frpm\"\n",
      "    VALUE -> \"<number>\" | \"<string>\"\n",
      "    \n"
     ]
    }
   ],
   "source": [
    "print(tester.cfg)"
   ]
  },
  {
   "cell_type": "code",
   "execution_count": 3,
   "metadata": {},
   "outputs": [
    {
     "ename": "ValueError",
     "evalue": "invalid literal for int() with base 10: \"'123'\"",
     "output_type": "error",
     "traceback": [
      "\u001b[0;31m---------------------------------------------------------------------------\u001b[0m",
      "\u001b[0;31mValueError\u001b[0m                                Traceback (most recent call last)",
      "Cell \u001b[0;32mIn[3], line 1\u001b[0m\n\u001b[0;32m----> 1\u001b[0m \u001b[38;5;28;43mint\u001b[39;49m\u001b[43m(\u001b[49m\u001b[38;5;124;43m\"\u001b[39;49m\u001b[38;5;124;43m'\u001b[39;49m\u001b[38;5;124;43m123\u001b[39;49m\u001b[38;5;124;43m'\u001b[39;49m\u001b[38;5;124;43m\"\u001b[39;49m\u001b[43m)\u001b[49m\n",
      "\u001b[0;31mValueError\u001b[0m: invalid literal for int() with base 10: \"'123'\""
     ]
    }
   ],
   "source": [
    "int(\"'123'\")"
   ]
  },
  {
   "cell_type": "code",
   "execution_count": 4,
   "metadata": {},
   "outputs": [
    {
     "ename": "AttributeError",
     "evalue": "'NoSQLTestCases' object has no attribute 'parser'",
     "output_type": "error",
     "traceback": [
      "\u001b[0;31m---------------------------------------------------------------------------\u001b[0m",
      "\u001b[0;31mAttributeError\u001b[0m                            Traceback (most recent call last)",
      "Cell \u001b[0;32mIn[4], line 1\u001b[0m\n\u001b[0;32m----> 1\u001b[0m \u001b[38;5;28mprint\u001b[39m(\u001b[43mtester\u001b[49m\u001b[38;5;241;43m.\u001b[39;49m\u001b[43mparser\u001b[49m)\n",
      "\u001b[0;31mAttributeError\u001b[0m: 'NoSQLTestCases' object has no attribute 'parser'"
     ]
    }
   ],
   "source": [
    "print(tester.parser)"
   ]
  },
  {
   "cell_type": "code",
   "execution_count": 7,
   "metadata": {},
   "outputs": [
    {
     "data": {
      "text/plain": [
       "{'transactions_1k': {'Amount': [1000,\n",
       "   'int',\n",
       "   'num',\n",
       "   'non-unique',\n",
       "   'non-null',\n",
       "   0,\n",
       "   264,\n",
       "   []],\n",
       "  'CardID': [1000, 'int', 'cat', 'non-unique', 'non-null', 99745, 753582, []],\n",
       "  'CustomerID': [1000,\n",
       "   'int',\n",
       "   'cat',\n",
       "   'non-unique',\n",
       "   'non-null',\n",
       "   7626,\n",
       "   49788,\n",
       "   []],\n",
       "  'Date': [1000,\n",
       "   'str',\n",
       "   'date',\n",
       "   'non-unique',\n",
       "   'non-null',\n",
       "   '2012-08-23',\n",
       "   '2012-08-24',\n",
       "   []],\n",
       "  'GasStationID': [1000, 'int', 'cat', 'non-unique', 'non-null', 48, 3869, []],\n",
       "  'Price': [1000,\n",
       "   'float',\n",
       "   'num',\n",
       "   'non-unique',\n",
       "   'non-null',\n",
       "   15.41,\n",
       "   5762.49,\n",
       "   []],\n",
       "  'ProductID': [1000, 'int', 'cat', 'non-unique', 'non-null', 2, 23, []],\n",
       "  'Time': [1000,\n",
       "   'str',\n",
       "   'time',\n",
       "   'non-unique',\n",
       "   'non-null',\n",
       "   '03:53:00',\n",
       "   '23:59:00',\n",
       "   []],\n",
       "  'TransactionID': [1000,\n",
       "   'int',\n",
       "   'ordinal-cat',\n",
       "   'unique',\n",
       "   'non-null',\n",
       "   1,\n",
       "   1000,\n",
       "   []]},\n",
       " 'products': {'Description': [200,\n",
       "   'str',\n",
       "   'cat',\n",
       "   'non-unique',\n",
       "   'non-null',\n",
       "   -1,\n",
       "   -1,\n",
       "   ['Rucní zadání', 'Nafta', 'Special', 'Super', 'Natural']],\n",
       "  'ProductID': [200, 'int', 'ordinal-cat', 'unique', 'non-null', 1, 200, []]},\n",
       " 'gasstations': {'ChainID': [200,\n",
       "   'int',\n",
       "   'cat',\n",
       "   'non-unique',\n",
       "   'non-null',\n",
       "   1,\n",
       "   36,\n",
       "   []],\n",
       "  'Country': [200, 'str', 'cat', 'non-unique', 'non-null', -1, -1, ['CZE']],\n",
       "  'GasStationID': [200,\n",
       "   'int',\n",
       "   'ordinal-cat',\n",
       "   'unique',\n",
       "   'non-null',\n",
       "   44,\n",
       "   200,\n",
       "   []],\n",
       "  'Segment': [200,\n",
       "   'str',\n",
       "   'cat',\n",
       "   'non-unique',\n",
       "   'non-null',\n",
       "   -1,\n",
       "   -1,\n",
       "   ['Value for money', 'Premium', 'Other', 'Noname', 'Discount']]},\n",
       " 'customers': {'Currency': [1100,\n",
       "   'str',\n",
       "   'cat',\n",
       "   'non-unique',\n",
       "   'non-null',\n",
       "   -1,\n",
       "   -1,\n",
       "   ['EUR', 'CZK']],\n",
       "  'CustomerID': [1100,\n",
       "   'int',\n",
       "   'ordinal-cat',\n",
       "   'unique',\n",
       "   'non-null',\n",
       "   3,\n",
       "   1103,\n",
       "   []],\n",
       "  'Segment': [1100,\n",
       "   'str',\n",
       "   'cat',\n",
       "   'non-unique',\n",
       "   'non-null',\n",
       "   -1,\n",
       "   -1,\n",
       "   ['SME', 'LAM', 'KAM']]}}"
      ]
     },
     "execution_count": 7,
     "metadata": {},
     "output_type": "execute_result"
    }
   ],
   "source": [
    "tester.schema_description"
   ]
  },
  {
   "cell_type": "code",
   "execution_count": 5,
   "metadata": {},
   "outputs": [
    {
     "data": {
      "text/plain": [
       "{1, 2, 3, 4, 5, 6}"
      ]
     },
     "execution_count": 5,
     "metadata": {},
     "output_type": "execute_result"
    }
   ],
   "source": [
    "a = set([4, 5, 6])\n",
    "b = set([1, 2, 3])\n",
    "\n",
    "a = a.union(b)\n",
    "a"
   ]
  },
  {
   "cell_type": "code",
   "execution_count": 4,
   "metadata": {},
   "outputs": [
    {
     "data": {
      "text/plain": [
       "'SME'"
      ]
     },
     "execution_count": 4,
     "metadata": {},
     "output_type": "execute_result"
    }
   ],
   "source": [
    "import re\n",
    "re.match('[^a-zA-Z0-9\\s-]*([\\w\\s-]+)[^a-zA-Z0-9\\s-]*', \"'SME'.\").group(1).replace(\"-\", \" \")"
   ]
  },
  {
   "cell_type": "code",
   "execution_count": 5,
   "metadata": {},
   "outputs": [
    {
     "name": "stdout",
     "output_type": "stream",
     "text": [
      "RULES FOR NLQ (NATURAL LANGUAGE QUERY)\n",
      "*1 Always use KEYWORDS [where, order by, group by] in NL; slight deviations allowed\n",
      "*2 Always join multiword operators with '-' [standard-deviation, minimum-of /etc]; other connectors allowed except space\n",
      "*3 Where clauses don't support pure cat field comparisions \n",
      "\n"
     ]
    },
    {
     "name": "stderr",
     "output_type": "stream",
     "text": [
      "[nltk_data] Error loading stopwords: <urlopen error [SSL:\n",
      "[nltk_data]     CERTIFICATE_VERIFY_FAILED] certificate verify failed:\n",
      "[nltk_data]     unable to get local issuer certificate (_ssl.c:1002)>\n",
      "/Users/pranu/Documents/Grad-Docs/Third Sem/FDM/ChatDB-new/.venv/lib/python3.11/site-packages/fuzzywuzzy/fuzz.py:11: UserWarning: Using slow pure-python SequenceMatcher. Install python-Levenshtein to remove this warning\n",
      "  warnings.warn('Using slow pure-python SequenceMatcher. Install python-Levenshtein to remove this warning')\n"
     ]
    },
    {
     "data": {
      "text/plain": [
       "[]"
      ]
     },
     "execution_count": 5,
     "metadata": {},
     "output_type": "execute_result"
    }
   ],
   "source": [
    "from engine import STRING_STORE\n",
    "\n",
    "STRING_STORE"
   ]
  },
  {
   "cell_type": "code",
   "execution_count": null,
   "metadata": {},
   "outputs": [
    {
     "name": "stdout",
     "output_type": "stream",
     "text": [
      "####################################################################################################\n",
      "NL Query :  Get the average of ANA where Thrombosis = 1 from Examination.\n"
     ]
    },
    {
     "name": "stderr",
     "output_type": "stream",
     "text": [
      "WARNING:root:Applied processor reduces input query to empty string, all comparisons will have score 0. [Query: '=']\n"
     ]
    },
    {
     "name": "stdout",
     "output_type": "stream",
     "text": [
      "Reconstructed Query :  get average ANA where Thrombosis = <number> Examination\n",
      "Parse Tree :  (S\n",
      "  (CMD get)\n",
      "  (AGG average)\n",
      "  (COLUMN (NOMCAT ANA))\n",
      "  (CLAUSE\n",
      "    where\n",
      "    (COLUMN (NOMCAT Thrombosis))\n",
      "    (NOP =)\n",
      "    (VALUE <number>)\n",
      "    (CLAUSE ))\n",
      "  (TABLE Examination))\n",
      "SQL :  SELECT AVG(ANA) FROM Examination WHERE Thrombosis = 1\n",
      "Results :  [(639.2452830188679,)]\n",
      "####################################################################################################\n",
      "NL Query :  Retrieve the sum of ANA where Thrombosis = 2 in Examination.\n"
     ]
    },
    {
     "name": "stderr",
     "output_type": "stream",
     "text": [
      "WARNING:root:Applied processor reduces input query to empty string, all comparisons will have score 0. [Query: '=']\n"
     ]
    },
    {
     "name": "stdout",
     "output_type": "stream",
     "text": [
      "Reconstructed Query :  retrieve summation ANA where Thrombosis = <number> Examination\n",
      "Parse Tree :  (S\n",
      "  (CMD retrieve)\n",
      "  (AGG summation)\n",
      "  (COLUMN (NOMCAT ANA))\n",
      "  (CLAUSE\n",
      "    where\n",
      "    (COLUMN (NOMCAT Thrombosis))\n",
      "    (NOP =)\n",
      "    (VALUE <number>)\n",
      "    (CLAUSE ))\n",
      "  (TABLE Examination))\n",
      "SQL :  SELECT SUM(ANA) FROM Examination WHERE Thrombosis = 2\n",
      "Results :  [(27848,)]\n",
      "####################################################################################################\n",
      "NL Query :  Fetch unique values of Symptoms where Thrombosis = 3 from Examination.\n"
     ]
    },
    {
     "name": "stderr",
     "output_type": "stream",
     "text": [
      "WARNING:root:Applied processor reduces input query to empty string, all comparisons will have score 0. [Query: '=']\n"
     ]
    },
    {
     "name": "stdout",
     "output_type": "stream",
     "text": [
      "Reconstructed Query :  fetch Symptoms where Thrombosis = <number> Examination\n",
      "Parse Tree :  (S\n",
      "  (CMD fetch)\n",
      "  (COLUMN (CAT Symptoms))\n",
      "  (CLAUSE\n",
      "    where\n",
      "    (COLUMN (NOMCAT Thrombosis))\n",
      "    (NOP =)\n",
      "    (VALUE <number>)\n",
      "    (CLAUSE ))\n",
      "  (TABLE Examination))\n",
      "SQL :  SELECT Symptoms FROM Examination WHERE Thrombosis = 3\n",
      "Results :  [('thrombocytepenia',), ('thrombocytopenia',), ('thrombocytopenia',)]\n",
      "####################################################################################################\n",
      "NL Query :  Fetch distinct Diagnosis values where Thrombosis = 2 in Examination.\n"
     ]
    },
    {
     "name": "stderr",
     "output_type": "stream",
     "text": [
      "WARNING:root:Applied processor reduces input query to empty string, all comparisons will have score 0. [Query: '=']\n"
     ]
    },
    {
     "name": "stdout",
     "output_type": "stream",
     "text": [
      "Reconstructed Query :  fetch distinct Diagnosis where Thrombosis = <number> Examination\n",
      "Parse Tree :  (S\n",
      "  (CMD fetch)\n",
      "  (AGG distinct)\n",
      "  (COLUMN (CAT Diagnosis))\n",
      "  (CLAUSE\n",
      "    where\n",
      "    (COLUMN (NOMCAT Thrombosis))\n",
      "    (NOP =)\n",
      "    (VALUE <number>)\n",
      "    (CLAUSE ))\n",
      "  (TABLE Examination))\n",
      "SQL :  SELECT DISTINCT(Diagnosis) FROM Examination WHERE Thrombosis = 2\n",
      "Results :  [(None,), ('SLE',), ('SLE+Psy',)]\n",
      "####################################################################################################\n",
      "NL Query :  Fetch the maximum value of GOT where GOT > 100 from Laboratory.\n"
     ]
    },
    {
     "name": "stderr",
     "output_type": "stream",
     "text": [
      "WARNING:root:Applied processor reduces input query to empty string, all comparisons will have score 0. [Query: '>']\n"
     ]
    },
    {
     "name": "stdout",
     "output_type": "stream",
     "text": [
      "Reconstructed Query :  fetch maximum GOT where GOT > <number> Laboratory\n",
      "Parse Tree :  (S\n",
      "  (CMD fetch)\n",
      "  (AGG maximum)\n",
      "  (COLUMN (NOMCAT GOT))\n",
      "  (CLAUSE\n",
      "    where\n",
      "    (COLUMN (NOMCAT GOT))\n",
      "    (NOP >)\n",
      "    (VALUE <number>)\n",
      "    (CLAUSE ))\n",
      "  (TABLE Laboratory))\n",
      "SQL :  SELECT MAX(GOT) FROM Laboratory WHERE GOT > 100\n",
      "Results :  [(21480,)]\n",
      "####################################################################################################\n",
      "NL Query :  Get the average of CPK where TG > 100 from Laboratory.\n"
     ]
    },
    {
     "name": "stderr",
     "output_type": "stream",
     "text": [
      "WARNING:root:Applied processor reduces input query to empty string, all comparisons will have score 0. [Query: '>']\n"
     ]
    },
    {
     "name": "stdout",
     "output_type": "stream",
     "text": [
      "Reconstructed Query :  get average CPK where TG > <number> Laboratory\n",
      "Parse Tree :  (S\n",
      "  (CMD get)\n",
      "  (AGG average)\n",
      "  (COLUMN (NOMCAT CPK))\n",
      "  (CLAUSE\n",
      "    where\n",
      "    (COLUMN (NOMCAT TG))\n",
      "    (NOP >)\n",
      "    (VALUE <number>)\n",
      "    (CLAUSE ))\n",
      "  (TABLE Laboratory))\n",
      "SQL :  SELECT AVG(CPK) FROM Laboratory WHERE TG > 100\n",
      "Results :  [(119.23266219239373,)]\n",
      "####################################################################################################\n",
      "NL Query :  Retrieve the average value of ALB where HGB > 12 from Laboratory.\n"
     ]
    },
    {
     "name": "stderr",
     "output_type": "stream",
     "text": [
      "WARNING:root:Applied processor reduces input query to empty string, all comparisons will have score 0. [Query: '>']\n"
     ]
    },
    {
     "name": "stdout",
     "output_type": "stream",
     "text": [
      "Reconstructed Query :  retrieve average ALB where HGB > <number> Laboratory\n",
      "Parse Tree :  (S\n",
      "  (CMD retrieve)\n",
      "  (AGG average)\n",
      "  (COLUMN (NUM ALB))\n",
      "  (CLAUSE\n",
      "    where\n",
      "    (COLUMN (NUM HGB))\n",
      "    (NOP >)\n",
      "    (VALUE <number>)\n",
      "    (CLAUSE ))\n",
      "  (TABLE Laboratory))\n",
      "SQL :  SELECT AVG(ALB) FROM Laboratory WHERE HGB > 12\n",
      "Results :  [(4.281120716270456,)]\n",
      "####################################################################################################\n",
      "NL Query :  Get the total count of RBC where T-BIL > 0.2 in Laboratory.\n"
     ]
    },
    {
     "name": "stderr",
     "output_type": "stream",
     "text": [
      "WARNING:root:Applied processor reduces input query to empty string, all comparisons will have score 0. [Query: '>']\n"
     ]
    },
    {
     "name": "stdout",
     "output_type": "stream",
     "text": [
      "Reconstructed Query :  get count RBC where T-BIL > <number> Laboratory\n",
      "Parse Tree :  (S\n",
      "  (CMD get)\n",
      "  (AGG count)\n",
      "  (COLUMN (NUM RBC))\n",
      "  (CLAUSE\n",
      "    where\n",
      "    (COLUMN (NUM T-BIL))\n",
      "    (NOP >)\n",
      "    (VALUE <number>)\n",
      "    (CLAUSE ))\n",
      "  (TABLE Laboratory))\n",
      "SQL :  SELECT COUNT(RBC) FROM Laboratory WHERE T-BIL > 0.2\n",
      "Results :  []\n",
      "####################################################################################################\n",
      "NL Query :  Fetch the range of UA values where CRP = 2 in Laboratory.\n"
     ]
    },
    {
     "name": "stderr",
     "output_type": "stream",
     "text": [
      "WARNING:root:Applied processor reduces input query to empty string, all comparisons will have score 0. [Query: '=']\n"
     ]
    },
    {
     "name": "stdout",
     "output_type": "stream",
     "text": [
      "Reconstructed Query :  fetch RA UA where CRP = <number> Laboratory\n",
      "Parse Tree :  (S\n",
      "  (CMD fetch)\n",
      "  (COLUMN (CAT RA) (COLUMN (NUM UA)))\n",
      "  (CLAUSE\n",
      "    where\n",
      "    (COLUMN (CAT CRP))\n",
      "    (NOP =)\n",
      "    (VALUE <number>)\n",
      "    (CLAUSE ))\n",
      "  (TABLE Laboratory))\n",
      "SQL :  SELECT RA, UA FROM Laboratory WHERE CRP = 2\n",
      "Results :  [('-', 7.0), (None, 8.3), (None, 6.6)]\n",
      "####################################################################################################\n",
      "NL Query :  Retrieve the minimum value of ALP where ALP > 15 in Laboratory.\n"
     ]
    },
    {
     "name": "stderr",
     "output_type": "stream",
     "text": [
      "WARNING:root:Applied processor reduces input query to empty string, all comparisons will have score 0. [Query: '>']\n"
     ]
    },
    {
     "name": "stdout",
     "output_type": "stream",
     "text": [
      "Reconstructed Query :  retrieve minimum ALP where ALP > <number> Laboratory\n",
      "Parse Tree :  (S\n",
      "  (CMD retrieve)\n",
      "  (AGG minimum)\n",
      "  (COLUMN (NOMCAT ALP))\n",
      "  (CLAUSE\n",
      "    where\n",
      "    (COLUMN (NOMCAT ALP))\n",
      "    (NOP >)\n",
      "    (VALUE <number>)\n",
      "    (CLAUSE ))\n",
      "  (TABLE Laboratory))\n",
      "SQL :  SELECT MIN(ALP) FROM Laboratory WHERE ALP > 15\n",
      "Results :  [(22,)]\n",
      "####################################################################################################\n",
      "NL Query :  Fetch the total count of PatientID where SEX = 1 from Patient.\n"
     ]
    },
    {
     "name": "stderr",
     "output_type": "stream",
     "text": [
      "WARNING:root:Applied processor reduces input query to empty string, all comparisons will have score 0. [Query: '=']\n"
     ]
    },
    {
     "name": "stdout",
     "output_type": "stream",
     "text": [
      "Reconstructed Query :  fetch count ID where SEX = <number> Patient\n",
      "Parse Tree :  (S\n",
      "  (CMD fetch)\n",
      "  (AGG count)\n",
      "  (COLUMN (NOMCAT ID))\n",
      "  (CLAUSE\n",
      "    where\n",
      "    (COLUMN (CAT SEX))\n",
      "    (NOP =)\n",
      "    (VALUE <number>)\n",
      "    (CLAUSE ))\n",
      "  (TABLE Patient))\n",
      "SQL :  SELECT COUNT(ID) FROM Patient WHERE SEX = 1\n",
      "Results :  [(0,)]\n",
      "####################################################################################################\n",
      "NL Query :  Get all unique values of SEX where ID = 4060811 from Patient.\n"
     ]
    },
    {
     "name": "stderr",
     "output_type": "stream",
     "text": [
      "WARNING:root:Applied processor reduces input query to empty string, all comparisons will have score 0. [Query: '=']\n"
     ]
    },
    {
     "name": "stdout",
     "output_type": "stream",
     "text": [
      "Reconstructed Query :  get SEX where ID = <number> Patient\n",
      "Parse Tree :  (S\n",
      "  (CMD get)\n",
      "  (COLUMN (CAT SEX))\n",
      "  (CLAUSE\n",
      "    where\n",
      "    (COLUMN (NOMCAT ID))\n",
      "    (NOP =)\n",
      "    (VALUE <number>)\n",
      "    (CLAUSE ))\n",
      "  (TABLE Patient))\n",
      "SQL :  SELECT SEX FROM Patient WHERE ID = 4060811\n",
      "Results :  [('F',)]\n",
      "####################################################################################################\n",
      "NL Query :  Fetch all non-null Description values where PatientID = 1124385 from Patient.\n"
     ]
    },
    {
     "name": "stderr",
     "output_type": "stream",
     "text": [
      "WARNING:root:Applied processor reduces input query to empty string, all comparisons will have score 0. [Query: '=']\n"
     ]
    },
    {
     "name": "stdout",
     "output_type": "stream",
     "text": [
      "Reconstructed Query :  fetch Description where ID = <number> Patient\n",
      "Parse Tree :  (S\n",
      "  (CMD fetch)\n",
      "  (COLUMN (CAT Description))\n",
      "  (CLAUSE\n",
      "    where\n",
      "    (COLUMN (NOMCAT ID))\n",
      "    (NOP =)\n",
      "    (VALUE <number>)\n",
      "    (CLAUSE ))\n",
      "  (TABLE Patient))\n",
      "SQL :  SELECT Description FROM Patient WHERE ID = 1124385\n",
      "Results :  [('1997-07-31',)]\n"
     ]
    },
    {
     "data": {
      "text/plain": [
       "[[(639.2452830188679,)],\n",
       " [(27848,)],\n",
       " [('thrombocytepenia',), ('thrombocytopenia',), ('thrombocytopenia',)],\n",
       " [(None,), ('SLE',), ('SLE+Psy',)],\n",
       " [(21480,)],\n",
       " [(119.23266219239373,)],\n",
       " [(4.281120716270456,)],\n",
       " [],\n",
       " [('-', 7.0), (None, 8.3), (None, 6.6)],\n",
       " [(22,)],\n",
       " [(0,)],\n",
       " [('F',)],\n",
       " [('1997-07-31',)]]"
      ]
     },
     "execution_count": 2,
     "metadata": {},
     "output_type": "execute_result"
    }
   ],
   "source": [
    "tester = SQLTestCases('thrombosis_prediction')\n",
    "cases = tester.t \n",
    "list(map(tester, cases))\n",
    "\n",
    "t\n"
   ]
  },
  {
   "cell_type": "code",
   "execution_count": 5,
   "metadata": {},
   "outputs": [
    {
     "data": {
      "text/plain": [
       "'hello-john'"
      ]
     },
     "execution_count": 5,
     "metadata": {},
     "output_type": "execute_result"
    }
   ],
   "source": [
    "import re \n",
    "\n",
    "re.match('[^a-zA-Z0-9\\s-]*([\\w\\s-]+)[^a-zA-Z0-9\\s-]*', \"'hello-john'.\").group(1)"
   ]
  },
  {
   "cell_type": "code",
   "execution_count": null,
   "metadata": {},
   "outputs": [],
   "source": []
  }
 ],
 "metadata": {
  "kernelspec": {
   "display_name": ".venv",
   "language": "python",
   "name": "python3"
  },
  "language_info": {
   "codemirror_mode": {
    "name": "ipython",
    "version": 3
   },
   "file_extension": ".py",
   "mimetype": "text/x-python",
   "name": "python",
   "nbconvert_exporter": "python",
   "pygments_lexer": "ipython3",
   "version": "3.11.4"
  }
 },
 "nbformat": 4,
 "nbformat_minor": 2
}
