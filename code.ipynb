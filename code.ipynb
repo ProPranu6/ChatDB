{
 "cells": [
  {
   "cell_type": "code",
   "execution_count": 1,
   "metadata": {},
   "outputs": [
    {
     "name": "stdout",
     "output_type": "stream",
     "text": [
      "RULES FOR NLQ (NATURAL LANGUAGE QUERY)\n",
      "*1 Always use KEYWORDS [where, order by, group by] in NL; slight deviations allowed\n",
      "*2 Always join multiword operators with '-' [standard-deviation, minimum-of /etc]; other connectors allowed except space\n",
      "*3 Where clauses don't support pure cat field comparisions \n",
      "\n"
     ]
    },
    {
     "name": "stderr",
     "output_type": "stream",
     "text": [
      "[nltk_data] Error loading stopwords: <urlopen error [SSL:\n",
      "[nltk_data]     CERTIFICATE_VERIFY_FAILED] certificate verify failed:\n",
      "[nltk_data]     unable to get local issuer certificate (_ssl.c:1002)>\n",
      "/Users/pranu/Documents/Grad-Docs/Third Sem/FDM/ChatDB/.venv/lib/python3.11/site-packages/fuzzywuzzy/fuzz.py:11: UserWarning: Using slow pure-python SequenceMatcher. Install python-Levenshtein to remove this warning\n",
      "  warnings.warn('Using slow pure-python SequenceMatcher. Install python-Levenshtein to remove this warning')\n"
     ]
    }
   ],
   "source": [
    "from engine import client, data_explore, get_parser, generate_sql, restructure_query, parse_tree_to_sql, query_sql, query_nosql, SQLToMongoConverter\n",
    "from warnings import filterwarnings\n",
    "filterwarnings('ignore')"
   ]
  },
  {
   "cell_type": "code",
   "execution_count": null,
   "metadata": {},
   "outputs": [],
   "source": [
    "\"\"\"\n",
    "SQL db -> JSONs -> schema -> SQL gen1\n",
    "                          -> NL-SQL parser -> SQL gen2\n",
    "\"\"\"\n",
    "\n",
    "schema_description=data_explore('SQL/thrombosis_prediction')\n",
    "query = \"select sum of symptoms from examinations where the id > 3853710 grouped by people's thrombosis status\" \n",
    "parser, corrs = get_parser(schema_description, 'Examination')\n",
    "query = restructure_query(query, corrs)\n",
    "tokens = query.split()\n",
    "tree = next(parser.parse(tokens))\n",
    "sql = parse_tree_to_sql(tree)\n",
    "query_sql('SQL/thrombosis_prediction/thrombosis_prediction.sqlite', sql)\n",
    "\n",
    "\n",
    "\"\"\"\n",
    "\n",
    "NoSQL db -> JSONs -> schema -> SQL gen1 -> NoSQL gen1\n",
    "                            -> NL-SQL parser -> SQL gen2 -> NoSQL gen2\n",
    "\n",
    "\"\"\"\n",
    "\n",
    "\n",
    "schema_description=data_explore('NoSQL/formula_1')\n",
    "query = \"select maximum wins from constructorStandings where position placed is < 3 and grouped by constructorId\" \n",
    "parser, corrs = get_parser(schema_description, 'constructorStandings')\n",
    "query = restructure_query(query, corrs)\n",
    "tokens = query.split()\n",
    "tree = next(parser.parse(tokens))\n",
    "sqlt = parse_tree_to_sql(tree)\n",
    "nosql = SQLToMongoConverter().convert_to_mongo(sqlt)\n",
    "query_nosql('formula_1', nosql)\n",
    "\n",
    "_ = \"end\""
   ]
  },
  {
   "cell_type": "code",
   "execution_count": 1,
   "metadata": {},
   "outputs": [
    {
     "name": "stdout",
     "output_type": "stream",
     "text": [
      "RULES FOR NLQ (NATURAL LANGUAGE QUERY)\n",
      "*1 Always use KEYWORDS [where, order by, group by] in NL; slight deviations allowed\n",
      "*2 Always join multiword operators with '-' [standard-deviation, minimum-of /etc]; other connectors allowed except space\n",
      "*3 Where clauses don't support pure cat field comparisions \n",
      "\n"
     ]
    },
    {
     "name": "stderr",
     "output_type": "stream",
     "text": [
      "[nltk_data] Error loading stopwords: <urlopen error [SSL:\n",
      "[nltk_data]     CERTIFICATE_VERIFY_FAILED] certificate verify failed:\n",
      "[nltk_data]     unable to get local issuer certificate (_ssl.c:1002)>\n",
      "/Users/pranu/Documents/Grad-Docs/Third Sem/FDM/ChatDB/.venv/lib/python3.11/site-packages/fuzzywuzzy/fuzz.py:11: UserWarning: Using slow pure-python SequenceMatcher. Install python-Levenshtein to remove this warning\n",
      "  warnings.warn('Using slow pure-python SequenceMatcher. Install python-Levenshtein to remove this warning')\n"
     ]
    }
   ],
   "source": [
    "from test_cases import NoSQLTestCases, SQLTestCases"
   ]
  },
  {
   "cell_type": "code",
   "execution_count": 5,
   "metadata": {},
   "outputs": [
    {
     "name": "stdout",
     "output_type": "stream",
     "text": [
      "####################################################################################################\n",
      "NL Query :  Fetch the minimum points from constructorStandings, grouped by constructorStandingsId.\n",
      "Reconstructed Query :  fetch minimum points constructorStandings group by constructorStandingsId\n",
      "Parse Tree :  (S\n",
      "  (CMD fetch)\n",
      "  (AGG minimum)\n",
      "  (COLUMN (NUM points))\n",
      "  (TABLE constructorStandings)\n",
      "  (CLAUSE\n",
      "    group\n",
      "    by\n",
      "    (COLUMN (NOMCAT constructorStandingsId))\n",
      "    (CLAUSE )))\n",
      "SQL :  SELECT MIN(points) FROM constructorStandings GROUP BY constructorStandingsId\n",
      "NoSQL :  constructorStandings.aggregate([{'$group': {'_id': '$constructorStandingsId', 'result': {'$min': '$points'}}}])\n",
      "Results :  [{'_id': 10586, 'result': 0.0}, {'_id': 3482, 'result': 0.0}, {'_id': 19077, 'result': 3.0}]\n",
      "####################################################################################################\n",
      "NL Query :  Get the minimum position from constructorStandings where points = 7.\n"
     ]
    },
    {
     "name": "stderr",
     "output_type": "stream",
     "text": [
      "WARNING:root:Applied processor reduces input query to empty string, all comparisons will have score 0. [Query: '=']\n"
     ]
    },
    {
     "name": "stdout",
     "output_type": "stream",
     "text": [
      "Reconstructed Query :  get minimum position constructorStandings where points = <number>\n",
      "Parse Tree :  (S\n",
      "  (CMD get)\n",
      "  (AGG minimum)\n",
      "  (COLUMN (NOMCAT position))\n",
      "  (TABLE constructorStandings)\n",
      "  (CLAUSE\n",
      "    where\n",
      "    (COLUMN (NUM points))\n",
      "    (NOP =)\n",
      "    (VALUE <number>)\n",
      "    (CLAUSE )))\n",
      "SQL :  SELECT MIN(position) FROM constructorStandings WHERE points = 7.\n",
      "NoSQL :  constructorStandings.aggregate([{'$match': {'points': {'$eq': 7.0}}}, {'$group': {'_id': None, 'result': {'$min': '$position'}}}])\n",
      "Results :  [{'_id': None, 'result': 2}]\n",
      "####################################################################################################\n",
      "NL Query :  Get the mean of points from constructorStandings.\n",
      "Reconstructed Query :  get median points constructorStandings\n",
      "Parse Tree :  (S\n",
      "  (CMD get)\n",
      "  (AGG median)\n",
      "  (COLUMN (NUM points))\n",
      "  (CLAUSE )\n",
      "  (TABLE constructorStandings))\n",
      "SQL :  SELECT MEDIAN(points) FROM constructorStandings \n",
      "NoSQL :  constructorStandings.aggregate([{'$group': {'_id': None, 'result': {'$avg': '$points'}}}])\n",
      "Results :  [{'_id': None, 'result': 26.384673876309563}]\n",
      "####################################################################################################\n",
      "NL Query :  Fetch the total points from constructorStandings.\n",
      "Reconstructed Query :  fetch points constructorStandings\n",
      "Parse Tree :  (S\n",
      "  (CMD fetch)\n",
      "  (COLUMN (NUM points))\n",
      "  (CLAUSE )\n",
      "  (TABLE constructorStandings))\n",
      "SQL :  SELECT points FROM constructorStandings \n",
      "NoSQL :  constructorStandings.aggregate([{'$project': {'points': 1}}])\n",
      "Results :  [{'_id': ObjectId('67380451baeca311226f8398'), 'points': 14.0}, {'_id': ObjectId('67380451baeca311226f8399'), 'points': 8.0}, {'_id': ObjectId('67380451baeca311226f839a'), 'points': 9.0}]\n",
      "####################################################################################################\n",
      "NL Query :  Get the summation of points from constructorStandings, that are grouped by _id.\n",
      "Reconstructed Query :  get summation points constructorStandings group by _id\n",
      "Parse Tree :  (S\n",
      "  (CMD get)\n",
      "  (AGG summation)\n",
      "  (COLUMN (NUM points))\n",
      "  (TABLE constructorStandings)\n",
      "  (CLAUSE group by (COLUMN (CAT _id)) (CLAUSE )))\n",
      "SQL :  SELECT SUM(points) FROM constructorStandings GROUP BY _id\n",
      "NoSQL :  constructorStandings.aggregate([{'$group': {'_id': '$_id', 'result': {'$sum': '$points'}}}])\n",
      "Results :  [{'_id': ObjectId('67380451baeca311226f8b98'), 'result': 10.0}, {'_id': ObjectId('67380451baeca311226f8688'), 'result': 1.0}, {'_id': ObjectId('67380451baeca311226f8966'), 'result': 18.0}]\n",
      "####################################################################################################\n",
      "NL Query :  Fetch the minimum long from circuits, ordered by lat.\n",
      "Reconstructed Query :  fetch minimum lng circuits order by lat\n",
      "Parse Tree :  (S\n",
      "  (CMD fetch)\n",
      "  (AGG minimum)\n",
      "  (COLUMN (NUM lng))\n",
      "  (TABLE circuits)\n",
      "  (CLAUSE order by (COLUMN (NUM lat)) (CLAUSE )))\n",
      "SQL :  SELECT MIN(lng) FROM circuits ORDER BY lat\n",
      "NoSQL :  circuits.aggregate([{'$group': {'_id': None, 'result': {'$min': '$lng'}}}, {'$sort': {'lat': 1}}])\n",
      "Results :  [{'_id': None, 'result': -118.189}]\n",
      "####################################################################################################\n",
      "NL Query :  Fetch the variance in long from circuits where circuitId > 50\n"
     ]
    },
    {
     "name": "stderr",
     "output_type": "stream",
     "text": [
      "WARNING:root:Applied processor reduces input query to empty string, all comparisons will have score 0. [Query: '>']\n"
     ]
    },
    {
     "name": "stdout",
     "output_type": "stream",
     "text": [
      "Reconstructed Query :  fetch variance lng circuits where circuitId > <number>\n",
      "Parse Tree :  (S\n",
      "  (CMD fetch)\n",
      "  (AGG variance)\n",
      "  (COLUMN (NUM lng))\n",
      "  (TABLE circuits)\n",
      "  (CLAUSE\n",
      "    where\n",
      "    (COLUMN (ORDCAT circuitId))\n",
      "    (NOP >)\n",
      "    (VALUE <number>)\n",
      "    (CLAUSE )))\n",
      "SQL :  SELECT VARIANCE(lng) FROM circuits WHERE circuitId > 50\n",
      "NoSQL :  circuits.aggregate([{'$match': {'circuitId': {'$gt': 50}}}, {'$group': {'_id': None, 'result': {'$variance': '$lng'}}}])\n",
      "Results :  []\n",
      "####################################################################################################\n",
      "NL Query :  Fetch _id from constructors.\n",
      "Reconstructed Query :  fetch _id constructors\n",
      "Parse Tree :  (S (CMD fetch) (COLUMN (CAT _id)) (CLAUSE ) (TABLE constructors))\n",
      "SQL :  SELECT _id FROM constructors \n",
      "NoSQL :  constructors.aggregate([{'$project': {'_id': 1}}])\n",
      "Results :  [{'_id': ObjectId('67380451baeca311226f8280')}, {'_id': ObjectId('67380451baeca311226f8281')}, {'_id': ObjectId('67380451baeca311226f8282')}]\n",
      "####################################################################################################\n",
      "NL Query :  Get year from races.\n",
      "Reconstructed Query :  get year races\n",
      "Parse Tree :  (S (CMD get) (COLUMN (NOMCAT year)) (CLAUSE ) (TABLE races))\n",
      "SQL :  SELECT year FROM races \n",
      "NoSQL :  races.aggregate([{'$project': {'year': 1}}])\n",
      "Results :  [{'_id': ObjectId('67380451baeca311226f7eb0'), 'year': 2009}, {'_id': ObjectId('67380451baeca311226f7eb1'), 'year': 2009}, {'_id': ObjectId('67380451baeca311226f7eb2'), 'year': 2009}]\n",
      "####################################################################################################\n",
      "NL Query :  Fetch round from races.\n",
      "Reconstructed Query :  fetch round races\n",
      "Parse Tree :  (S (CMD fetch) (COLUMN (NOMCAT round)) (CLAUSE ) (TABLE races))\n",
      "SQL :  SELECT round FROM races \n",
      "NoSQL :  races.aggregate([{'$project': {'round': 1}}])\n",
      "Results :  [{'_id': ObjectId('67380451baeca311226f7eb0'), 'round': 1}, {'_id': ObjectId('67380451baeca311226f7eb1'), 'round': 2}, {'_id': ObjectId('67380451baeca311226f7eb2'), 'round': 3}]\n"
     ]
    }
   ],
   "source": [
    "tester = NoSQLTestCases()\n",
    "cases = tester.t \n",
    "_ = list(map(tester, cases))"
   ]
  },
  {
   "cell_type": "code",
   "execution_count": 2,
   "metadata": {},
   "outputs": [
    {
     "name": "stdout",
     "output_type": "stream",
     "text": [
      "####################################################################################################\n",
      "NL Query :  Get the average of ANA where Thrombosis = 1 from Examination.\n"
     ]
    },
    {
     "name": "stderr",
     "output_type": "stream",
     "text": [
      "WARNING:root:Applied processor reduces input query to empty string, all comparisons will have score 0. [Query: '=']\n"
     ]
    },
    {
     "name": "stdout",
     "output_type": "stream",
     "text": [
      "Reconstructed Query :  get average ANA where Thrombosis = <number> Examination\n",
      "Parse Tree :  (S\n",
      "  (CMD get)\n",
      "  (AGG average)\n",
      "  (COLUMN (NOMCAT ANA))\n",
      "  (CLAUSE\n",
      "    where\n",
      "    (COLUMN (NOMCAT Thrombosis))\n",
      "    (NOP =)\n",
      "    (VALUE <number>)\n",
      "    (CLAUSE ))\n",
      "  (TABLE Examination))\n",
      "SQL :  SELECT AVG(ANA) FROM Examination WHERE Thrombosis = 1\n",
      "Results :  [(639.2452830188679,)]\n",
      "####################################################################################################\n",
      "NL Query :  Retrieve the sum of ANA where Thrombosis = 2 in Examination.\n"
     ]
    },
    {
     "name": "stderr",
     "output_type": "stream",
     "text": [
      "WARNING:root:Applied processor reduces input query to empty string, all comparisons will have score 0. [Query: '=']\n"
     ]
    },
    {
     "name": "stdout",
     "output_type": "stream",
     "text": [
      "Reconstructed Query :  retrieve summation ANA where Thrombosis = <number> Examination\n",
      "Parse Tree :  (S\n",
      "  (CMD retrieve)\n",
      "  (AGG summation)\n",
      "  (COLUMN (NOMCAT ANA))\n",
      "  (CLAUSE\n",
      "    where\n",
      "    (COLUMN (NOMCAT Thrombosis))\n",
      "    (NOP =)\n",
      "    (VALUE <number>)\n",
      "    (CLAUSE ))\n",
      "  (TABLE Examination))\n",
      "SQL :  SELECT SUM(ANA) FROM Examination WHERE Thrombosis = 2\n",
      "Results :  [(27848,)]\n",
      "####################################################################################################\n",
      "NL Query :  Fetch unique values of Symptoms where Thrombosis = 3 from Examination.\n"
     ]
    },
    {
     "name": "stderr",
     "output_type": "stream",
     "text": [
      "WARNING:root:Applied processor reduces input query to empty string, all comparisons will have score 0. [Query: '=']\n"
     ]
    },
    {
     "name": "stdout",
     "output_type": "stream",
     "text": [
      "Reconstructed Query :  fetch Symptoms where Thrombosis = <number> Examination\n",
      "Parse Tree :  (S\n",
      "  (CMD fetch)\n",
      "  (COLUMN (CAT Symptoms))\n",
      "  (CLAUSE\n",
      "    where\n",
      "    (COLUMN (NOMCAT Thrombosis))\n",
      "    (NOP =)\n",
      "    (VALUE <number>)\n",
      "    (CLAUSE ))\n",
      "  (TABLE Examination))\n",
      "SQL :  SELECT Symptoms FROM Examination WHERE Thrombosis = 3\n",
      "Results :  [('thrombocytepenia',), ('thrombocytopenia',), ('thrombocytopenia',)]\n",
      "####################################################################################################\n",
      "NL Query :  Fetch distinct Diagnosis values where Thrombosis = 2 in Examination.\n"
     ]
    },
    {
     "name": "stderr",
     "output_type": "stream",
     "text": [
      "WARNING:root:Applied processor reduces input query to empty string, all comparisons will have score 0. [Query: '=']\n"
     ]
    },
    {
     "name": "stdout",
     "output_type": "stream",
     "text": [
      "Reconstructed Query :  fetch distinct Diagnosis where Thrombosis = <number> Examination\n",
      "Parse Tree :  (S\n",
      "  (CMD fetch)\n",
      "  (AGG distinct)\n",
      "  (COLUMN (CAT Diagnosis))\n",
      "  (CLAUSE\n",
      "    where\n",
      "    (COLUMN (NOMCAT Thrombosis))\n",
      "    (NOP =)\n",
      "    (VALUE <number>)\n",
      "    (CLAUSE ))\n",
      "  (TABLE Examination))\n",
      "SQL :  SELECT DISTINCT(Diagnosis) FROM Examination WHERE Thrombosis = 2\n",
      "Results :  [(None,), ('SLE',), ('SLE+Psy',)]\n",
      "####################################################################################################\n",
      "NL Query :  Fetch the maximum value of GOT where GOT > 100 from Laboratory.\n"
     ]
    },
    {
     "name": "stderr",
     "output_type": "stream",
     "text": [
      "WARNING:root:Applied processor reduces input query to empty string, all comparisons will have score 0. [Query: '>']\n"
     ]
    },
    {
     "name": "stdout",
     "output_type": "stream",
     "text": [
      "Reconstructed Query :  fetch maximum GOT where GOT > <number> Laboratory\n",
      "Parse Tree :  (S\n",
      "  (CMD fetch)\n",
      "  (AGG maximum)\n",
      "  (COLUMN (NOMCAT GOT))\n",
      "  (CLAUSE\n",
      "    where\n",
      "    (COLUMN (NOMCAT GOT))\n",
      "    (NOP >)\n",
      "    (VALUE <number>)\n",
      "    (CLAUSE ))\n",
      "  (TABLE Laboratory))\n",
      "SQL :  SELECT MAX(GOT) FROM Laboratory WHERE GOT > 100\n",
      "Results :  [(21480,)]\n",
      "####################################################################################################\n",
      "NL Query :  Get the average of CPK where TG > 100 from Laboratory.\n"
     ]
    },
    {
     "name": "stderr",
     "output_type": "stream",
     "text": [
      "WARNING:root:Applied processor reduces input query to empty string, all comparisons will have score 0. [Query: '>']\n"
     ]
    },
    {
     "name": "stdout",
     "output_type": "stream",
     "text": [
      "Reconstructed Query :  get average CPK where TG > <number> Laboratory\n",
      "Parse Tree :  (S\n",
      "  (CMD get)\n",
      "  (AGG average)\n",
      "  (COLUMN (NOMCAT CPK))\n",
      "  (CLAUSE\n",
      "    where\n",
      "    (COLUMN (NOMCAT TG))\n",
      "    (NOP >)\n",
      "    (VALUE <number>)\n",
      "    (CLAUSE ))\n",
      "  (TABLE Laboratory))\n",
      "SQL :  SELECT AVG(CPK) FROM Laboratory WHERE TG > 100\n",
      "Results :  [(119.23266219239373,)]\n",
      "####################################################################################################\n",
      "NL Query :  Retrieve the average value of ALB where HGB > 12 from Laboratory.\n"
     ]
    },
    {
     "name": "stderr",
     "output_type": "stream",
     "text": [
      "WARNING:root:Applied processor reduces input query to empty string, all comparisons will have score 0. [Query: '>']\n"
     ]
    },
    {
     "name": "stdout",
     "output_type": "stream",
     "text": [
      "Reconstructed Query :  retrieve average ALB where HGB > <number> Laboratory\n",
      "Parse Tree :  (S\n",
      "  (CMD retrieve)\n",
      "  (AGG average)\n",
      "  (COLUMN (NUM ALB))\n",
      "  (CLAUSE\n",
      "    where\n",
      "    (COLUMN (NUM HGB))\n",
      "    (NOP >)\n",
      "    (VALUE <number>)\n",
      "    (CLAUSE ))\n",
      "  (TABLE Laboratory))\n",
      "SQL :  SELECT AVG(ALB) FROM Laboratory WHERE HGB > 12\n",
      "Results :  [(4.281120716270456,)]\n",
      "####################################################################################################\n",
      "NL Query :  Get the total count of RBC where T-BIL > 0.2 in Laboratory.\n"
     ]
    },
    {
     "name": "stderr",
     "output_type": "stream",
     "text": [
      "WARNING:root:Applied processor reduces input query to empty string, all comparisons will have score 0. [Query: '>']\n"
     ]
    },
    {
     "name": "stdout",
     "output_type": "stream",
     "text": [
      "Reconstructed Query :  get count RBC where T-BIL > <number> Laboratory\n",
      "Parse Tree :  (S\n",
      "  (CMD get)\n",
      "  (AGG count)\n",
      "  (COLUMN (NUM RBC))\n",
      "  (CLAUSE\n",
      "    where\n",
      "    (COLUMN (NUM T-BIL))\n",
      "    (NOP >)\n",
      "    (VALUE <number>)\n",
      "    (CLAUSE ))\n",
      "  (TABLE Laboratory))\n",
      "SQL :  SELECT COUNT(RBC) FROM Laboratory WHERE T-BIL > 0.2\n",
      "Results :  []\n",
      "####################################################################################################\n",
      "NL Query :  Fetch the range of UA values where CRP = 2 in Laboratory.\n"
     ]
    },
    {
     "name": "stderr",
     "output_type": "stream",
     "text": [
      "WARNING:root:Applied processor reduces input query to empty string, all comparisons will have score 0. [Query: '=']\n"
     ]
    },
    {
     "name": "stdout",
     "output_type": "stream",
     "text": [
      "Reconstructed Query :  fetch RA UA where CRP = <number> Laboratory\n",
      "Parse Tree :  (S\n",
      "  (CMD fetch)\n",
      "  (COLUMN (CAT RA) (COLUMN (NUM UA)))\n",
      "  (CLAUSE\n",
      "    where\n",
      "    (COLUMN (CAT CRP))\n",
      "    (NOP =)\n",
      "    (VALUE <number>)\n",
      "    (CLAUSE ))\n",
      "  (TABLE Laboratory))\n",
      "SQL :  SELECT RA, UA FROM Laboratory WHERE CRP = 2\n",
      "Results :  [('-', 7.0), (None, 8.3), (None, 6.6)]\n",
      "####################################################################################################\n",
      "NL Query :  Retrieve the minimum value of ALP where ALP > 15 in Laboratory.\n"
     ]
    },
    {
     "name": "stderr",
     "output_type": "stream",
     "text": [
      "WARNING:root:Applied processor reduces input query to empty string, all comparisons will have score 0. [Query: '>']\n"
     ]
    },
    {
     "name": "stdout",
     "output_type": "stream",
     "text": [
      "Reconstructed Query :  retrieve minimum ALP where ALP > <number> Laboratory\n",
      "Parse Tree :  (S\n",
      "  (CMD retrieve)\n",
      "  (AGG minimum)\n",
      "  (COLUMN (NOMCAT ALP))\n",
      "  (CLAUSE\n",
      "    where\n",
      "    (COLUMN (NOMCAT ALP))\n",
      "    (NOP >)\n",
      "    (VALUE <number>)\n",
      "    (CLAUSE ))\n",
      "  (TABLE Laboratory))\n",
      "SQL :  SELECT MIN(ALP) FROM Laboratory WHERE ALP > 15\n",
      "Results :  [(22,)]\n",
      "####################################################################################################\n",
      "NL Query :  Fetch the total count of PatientID where SEX = 1 from Patient.\n"
     ]
    },
    {
     "name": "stderr",
     "output_type": "stream",
     "text": [
      "WARNING:root:Applied processor reduces input query to empty string, all comparisons will have score 0. [Query: '=']\n"
     ]
    },
    {
     "name": "stdout",
     "output_type": "stream",
     "text": [
      "Reconstructed Query :  fetch count ID where SEX = <number> Patient\n",
      "Parse Tree :  (S\n",
      "  (CMD fetch)\n",
      "  (AGG count)\n",
      "  (COLUMN (NOMCAT ID))\n",
      "  (CLAUSE\n",
      "    where\n",
      "    (COLUMN (CAT SEX))\n",
      "    (NOP =)\n",
      "    (VALUE <number>)\n",
      "    (CLAUSE ))\n",
      "  (TABLE Patient))\n",
      "SQL :  SELECT COUNT(ID) FROM Patient WHERE SEX = 1\n",
      "Results :  [(0,)]\n",
      "####################################################################################################\n",
      "NL Query :  Get all unique values of SEX where ID = 4060811 from Patient.\n"
     ]
    },
    {
     "name": "stderr",
     "output_type": "stream",
     "text": [
      "WARNING:root:Applied processor reduces input query to empty string, all comparisons will have score 0. [Query: '=']\n"
     ]
    },
    {
     "name": "stdout",
     "output_type": "stream",
     "text": [
      "Reconstructed Query :  get SEX where ID = <number> Patient\n",
      "Parse Tree :  (S\n",
      "  (CMD get)\n",
      "  (COLUMN (CAT SEX))\n",
      "  (CLAUSE\n",
      "    where\n",
      "    (COLUMN (NOMCAT ID))\n",
      "    (NOP =)\n",
      "    (VALUE <number>)\n",
      "    (CLAUSE ))\n",
      "  (TABLE Patient))\n",
      "SQL :  SELECT SEX FROM Patient WHERE ID = 4060811\n",
      "Results :  [('F',)]\n",
      "####################################################################################################\n",
      "NL Query :  Fetch all non-null Description values where PatientID = 1124385 from Patient.\n"
     ]
    },
    {
     "name": "stderr",
     "output_type": "stream",
     "text": [
      "WARNING:root:Applied processor reduces input query to empty string, all comparisons will have score 0. [Query: '=']\n"
     ]
    },
    {
     "name": "stdout",
     "output_type": "stream",
     "text": [
      "Reconstructed Query :  fetch Description where ID = <number> Patient\n",
      "Parse Tree :  (S\n",
      "  (CMD fetch)\n",
      "  (COLUMN (CAT Description))\n",
      "  (CLAUSE\n",
      "    where\n",
      "    (COLUMN (NOMCAT ID))\n",
      "    (NOP =)\n",
      "    (VALUE <number>)\n",
      "    (CLAUSE ))\n",
      "  (TABLE Patient))\n",
      "SQL :  SELECT Description FROM Patient WHERE ID = 1124385\n",
      "Results :  [('1997-07-31',)]\n"
     ]
    },
    {
     "data": {
      "text/plain": [
       "[[(639.2452830188679,)],\n",
       " [(27848,)],\n",
       " [('thrombocytepenia',), ('thrombocytopenia',), ('thrombocytopenia',)],\n",
       " [(None,), ('SLE',), ('SLE+Psy',)],\n",
       " [(21480,)],\n",
       " [(119.23266219239373,)],\n",
       " [(4.281120716270456,)],\n",
       " [],\n",
       " [('-', 7.0), (None, 8.3), (None, 6.6)],\n",
       " [(22,)],\n",
       " [(0,)],\n",
       " [('F',)],\n",
       " [('1997-07-31',)]]"
      ]
     },
     "execution_count": 2,
     "metadata": {},
     "output_type": "execute_result"
    }
   ],
   "source": [
    "tester = SQLTestCases('thrombosis_prediction')\n",
    "cases = tester.t \n",
    "list(map(tester, cases))\n"
   ]
  },
  {
   "cell_type": "code",
   "execution_count": null,
   "metadata": {},
   "outputs": [],
   "source": []
  }
 ],
 "metadata": {
  "kernelspec": {
   "display_name": ".venv",
   "language": "python",
   "name": "python3"
  },
  "language_info": {
   "codemirror_mode": {
    "name": "ipython",
    "version": 3
   },
   "file_extension": ".py",
   "mimetype": "text/x-python",
   "name": "python",
   "nbconvert_exporter": "python",
   "pygments_lexer": "ipython3",
   "version": "3.11.4"
  }
 },
 "nbformat": 4,
 "nbformat_minor": 2
}
